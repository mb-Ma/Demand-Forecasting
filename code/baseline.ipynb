{
 "cells": [
  {
   "cell_type": "code",
   "execution_count": 1,
   "metadata": {},
   "outputs": [],
   "source": [
    "import os\n",
    "import pandas as pd\n",
    "demand_train_A = '../data/Dataset/demand_train_A.csv'\n",
    "geo_topo = '../data/Dataset/geo_topo.csv'\n",
    "inventory_info_A = '../data/Dataset/inventory_info_A.csv'\n",
    "product_topo = '../data/Dataset/product_topo.csv'\n",
    "weight_A = '../data/Dataset/weight_A.csv'\n",
    "\n",
    "demand_train_A = pd.read_csv(demand_train_A)\n",
    "geo_topo = pd.read_csv(geo_topo)\n",
    "inventory_info_A = pd.read_csv(inventory_info_A)\n",
    "product_topo = pd.read_csv(product_topo)\n",
    "weight_A = pd.read_csv(weight_A)\n",
    "\n",
    "demand_test_A = '../data/Dataset/demand_test_A.csv'\n",
    "demand_test_A = pd.read_csv(demand_test_A)\n",
    "\n",
    "dfs = [demand_train_A,geo_topo,inventory_info_A,product_topo,weight_A,demand_test_A]\n",
    "\n",
    "for df in dfs:\n",
    "    if 'Unnamed: 0' in df.columns:\n",
    "        df.drop(columns='Unnamed: 0',inplace=True)\n",
    "    if 'ts' in df.columns:\n",
    "        df = df.sort_values(by='ts')"
   ]
  },
  {
   "cell_type": "code",
   "execution_count": 2,
   "metadata": {},
   "outputs": [],
   "source": [
    "all_data =pd.concat([demand_train_A,demand_test_A])\n",
    "all_data = all_data.sort_values(by='ts')\n",
    "all_data = all_data.reset_index().drop(columns='index')"
   ]
  },
  {
   "cell_type": "code",
   "execution_count": 3,
   "metadata": {},
   "outputs": [],
   "source": [
    "#真实值串14天\n",
    "submission = demand_test_A\n",
    "submission['yesterday_qty'] = submission.groupby('unit')['qty'].shift(1).fillna(method='ffill').reset_index().sort_index().set_index('index')\n",
    "\n",
    "submission['diff_1'] = submission['qty'] - submission['yesterday_qty']\n",
    "submission['qty'] = submission['diff_1']\n",
    "\n",
    "submission['shift_14']=submission.groupby('unit')['qty'].shift(-14).fillna(0).reset_index().sort_index().set_index('index')\n",
    "submission = submission[['unit','ts','shift_14']].rename(columns={'shift_14':'qty'})\n",
    "\n",
    "\n",
    "#按照7天聚合\n",
    "submission['dt'] = pd.to_datetime(submission['ts'])\n",
    "submission['weekofyear'] = submission['dt'].dt.weekofyear\n",
    "submission['year'] = submission['dt'].dt.year\n",
    "submission_week = submission.copy()\n",
    "submission_week = submission_week.groupby(['weekofyear','year','unit'],as_index=False).sum()\n",
    "submission_week['sum_qty'] = submission_week['qty']\n",
    "submission = pd.merge(submission_week,submission,on = ['weekofyear','year','unit'])\n",
    "submission['dayofweek'] = submission['dt'].dt.dayofweek\n",
    "submission = submission[submission['dayofweek']==0]\n",
    "submission = submission[['unit','ts','sum_qty']].rename(columns={'sum_qty':'qty'})\n",
    "\n",
    "\n",
    "init_inventory = inventory_info_A.set_index(['unit'])['qty'].to_dict()\n",
    "def consume_init_inventory(arr,init_val):\n",
    "    remain = init_val\n",
    "    i = 0\n",
    "    while remain>0 and i<len(arr):\n",
    "        arr[i] = max(0,arr[i]-remain)\n",
    "        remain -= arr[i]\n",
    "        i+=1\n",
    "    return arr\n",
    "\n",
    "r = []\n",
    "for i,group in submission.groupby('unit'):\n",
    "\n",
    "    unit = group['unit'].values[0]\n",
    "    init_val = init_inventory[unit]\n",
    "    \n",
    "    group = group.sort_values(by='ts')\n",
    "    qty_list = group['qty'].values\n",
    "    qty_list = consume_init_inventory(qty_list,init_val)\n",
    "    group['qty'] = qty_list\n",
    "    r.append(group)\n",
    "\n",
    "submission = pd.concat(r)\n"
   ]
  },
  {
   "cell_type": "code",
   "execution_count": 7,
   "metadata": {},
   "outputs": [],
   "source": [
    "submission['qty'] = submission['qty'].astype(int)"
   ]
  },
  {
   "cell_type": "code",
   "execution_count": 8,
   "metadata": {},
   "outputs": [
    {
     "data": {
      "text/html": [
       "<div>\n",
       "<style scoped>\n",
       "    .dataframe tbody tr th:only-of-type {\n",
       "        vertical-align: middle;\n",
       "    }\n",
       "\n",
       "    .dataframe tbody tr th {\n",
       "        vertical-align: top;\n",
       "    }\n",
       "\n",
       "    .dataframe thead th {\n",
       "        text-align: right;\n",
       "    }\n",
       "</style>\n",
       "<table border=\"1\" class=\"dataframe\">\n",
       "  <thead>\n",
       "    <tr style=\"text-align: right;\">\n",
       "      <th></th>\n",
       "      <th>unit</th>\n",
       "      <th>ts</th>\n",
       "      <th>qty</th>\n",
       "    </tr>\n",
       "  </thead>\n",
       "  <tbody>\n",
       "    <tr>\n",
       "      <th>3792</th>\n",
       "      <td>0025accbb2e3dfbfe6f5b3a4562bdee0</td>\n",
       "      <td>2021-03-08</td>\n",
       "      <td>0</td>\n",
       "    </tr>\n",
       "    <tr>\n",
       "      <th>8216</th>\n",
       "      <td>0025accbb2e3dfbfe6f5b3a4562bdee0</td>\n",
       "      <td>2021-03-15</td>\n",
       "      <td>0</td>\n",
       "    </tr>\n",
       "    <tr>\n",
       "      <th>12640</th>\n",
       "      <td>0025accbb2e3dfbfe6f5b3a4562bdee0</td>\n",
       "      <td>2021-03-22</td>\n",
       "      <td>0</td>\n",
       "    </tr>\n",
       "    <tr>\n",
       "      <th>17064</th>\n",
       "      <td>0025accbb2e3dfbfe6f5b3a4562bdee0</td>\n",
       "      <td>2021-03-29</td>\n",
       "      <td>0</td>\n",
       "    </tr>\n",
       "    <tr>\n",
       "      <th>21488</th>\n",
       "      <td>0025accbb2e3dfbfe6f5b3a4562bdee0</td>\n",
       "      <td>2021-04-05</td>\n",
       "      <td>0</td>\n",
       "    </tr>\n",
       "  </tbody>\n",
       "</table>\n",
       "</div>"
      ],
      "text/plain": [
       "                                   unit          ts  qty\n",
       "3792   0025accbb2e3dfbfe6f5b3a4562bdee0  2021-03-08    0\n",
       "8216   0025accbb2e3dfbfe6f5b3a4562bdee0  2021-03-15    0\n",
       "12640  0025accbb2e3dfbfe6f5b3a4562bdee0  2021-03-22    0\n",
       "17064  0025accbb2e3dfbfe6f5b3a4562bdee0  2021-03-29    0\n",
       "21488  0025accbb2e3dfbfe6f5b3a4562bdee0  2021-04-05    0"
      ]
     },
     "execution_count": 8,
     "metadata": {},
     "output_type": "execute_result"
    }
   ],
   "source": [
    "submission.head()"
   ]
  },
  {
   "cell_type": "code",
   "execution_count": 9,
   "metadata": {},
   "outputs": [],
   "source": [
    "import datetime\n",
    "\n",
    "submission.to_csv((\"../submit/submit_\"+datetime.datetime.now().strftime('%Y%m%d_%H%M%S') + \".csv\"), index=False)"
   ]
  },
  {
   "cell_type": "code",
   "execution_count": null,
   "metadata": {},
   "outputs": [],
   "source": []
  }
 ],
 "metadata": {
  "kernelspec": {
   "display_name": "Python 3",
   "language": "python",
   "name": "python3"
  },
  "language_info": {
   "codemirror_mode": {
    "name": "ipython",
    "version": 3
   },
   "file_extension": ".py",
   "mimetype": "text/x-python",
   "name": "python",
   "nbconvert_exporter": "python",
   "pygments_lexer": "ipython3",
   "version": "3.6.5"
  }
 },
 "nbformat": 4,
 "nbformat_minor": 2
}
